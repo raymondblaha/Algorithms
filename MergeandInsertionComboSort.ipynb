{
 "cells": [
  {
   "cell_type": "markdown",
   "id": "eeb71822-59d3-4594-860f-35f15c81163a",
   "metadata": {},
   "source": [
    "Modifying and optimizing merge sort by incorporating insertion sort. \n",
    "\n",
    "Insertion sort, when implemented properly, is a stable sort. Merge sort, when implemented properly, is similarly a stable sort. However, merge sort is not very efficient when n is small. There is just too much overhead associated with recursions and memory management. Insertion sort, on the other hand, will perform much worse than merge sort for large n; but, much better for small n. Consequently, there is a great opportunity here to create a stable sort that is even faster than either on its own.\n",
    "\n",
    "What I would like you to do is to create a combination of merge and insertion sorts. Basically, you will start with the merge sort algorithms that we created in class. Then, you will modify the base case and when it is invoked by including an insertion sort for the base case. Note, because we are using an insertion sort as the base case, the merge sort algorithm no longer needs to keep breaking up the sub-lists until len(lst)<=1. For example, even if we have 1000 elements in a sub-list that needs to be sorted, we can simply sort these with insertion sort and not bother recursing further.\n",
    "\n",
    "In other words, say we start with a list that is 10,000 elements long that we are sorting. In the first call to the merge sort’s recursive part, we would break the list into two sub-lists that are 5,000 elements long. In the next one, we will break each of these into 2,500. Then, 1250. Then, 625. At that point, we may say, enough recursion, let insertion sort handle the 625. Once insertion sort does its magic on two sub-lists of 625, merge sort would then combine the two sub-lists into a single sorted sub-list of 1,250 like it would have done without the modification at that level on the call stack.\n",
    "\n",
    "What I would like you to do in this notebook is to implement a combination sort that switches from merge sort to insertion sort for n below a certain threshold. Then, I would like you to time performance of this combo sort. (You are strongly encouraged to paste all of this together from the code that is uploaded to H0 and W1.) \n",
    "By changing values of the threshold to when we switch from merge to insertion, optimize this threshold for your machine. Hint, I would be very surprised if it was around 1000. \n",
    "\n",
    "Please, have your notebook explain/demonstrate how you got to this value of the threshold as clearly as possible. Take care not to make it messy. Think of it as a short report that you are sharing with your boss who will want to show it off to the executive committee of the company you work for. Also, in this report, contrast the performance of this algorithm with performance of the original merge sort. \n",
    "\n",
    "You may work with others on all conceptual parts of this assignment. Please be courteous to your fellow students and make an effort to include ones that may not be working with anyone else. However, everyone is responsible for their own submission, on their own branch. There, I expect you to explain what you did in your own words. Also, once you figure out what needs to be done (and which parts of our code from class to use where) I would like you to put it together yourself. I.e., do not blindly copy your fellow students code that you may have even partially contributed to. You will not learn to debug and put code together on your own quickly and efficiently if you let someone else do it for you.\n"
   ]
  },
  {
   "cell_type": "code",
   "execution_count": 1,
   "id": "d9062516-e374-4eab-b065-d2c7bc904b08",
   "metadata": {},
   "outputs": [],
   "source": [
    "import numpy as np\n",
    "import random\n",
    "import time\n",
    "import matplotlib.pyplot as pplot"
   ]
  },
  {
   "cell_type": "code",
   "execution_count": 2,
   "id": "954f91fb-61bf-4d1b-8d52-6f08904590a4",
   "metadata": {},
   "outputs": [],
   "source": [
    "def merge_sorted_lists(lst1,lst2):\n",
    "    n1 = len(lst1)\n",
    "    n2 = len(lst2)\n",
    "    i1 = 0\n",
    "    i2 = 0\n",
    "    out_list = []\n",
    "    while i1 < n1 and i2<n2:\n",
    "        if lst1[i1] < lst2[i2]:\n",
    "            out_list.append(lst1[i1])\n",
    "            i1 += 1\n",
    "        else:\n",
    "            out_list.append(lst2[i2])\n",
    "            i2 += 1\n",
    "    out_list = out_list + lst1[i1:] + lst2[i2:]\n",
    "    return out_list"
   ]
  },
  {
   "cell_type": "code",
   "execution_count": 3,
   "id": "0cdd5950-76aa-4077-8117-c14b204c0475",
   "metadata": {},
   "outputs": [],
   "source": [
    "def insertionSort(arr):\n",
    "    for i in range(1, len(arr)):\n",
    "        key = arr[i]\n",
    "#Moving elements that are greater than the key ahead of the current positon. \n",
    "        j = i-1\n",
    "        while j>=0 and key < arr[j]:\n",
    "                arr[j+1] = arr[j]\n",
    "                j -= 1\n",
    "        arr[j+1] = key\n",
    "    return(arr)\n",
    "#Referenced: https://www.geeksforgeeks.org/python-program-for-insertion-sort/"
   ]
  },
  {
   "cell_type": "code",
   "execution_count": 4,
   "id": "2b75bf13-dcc4-4d1a-a00f-2f0b18fc9b84",
   "metadata": {},
   "outputs": [],
   "source": [
    "def getNextGap(gap):\n",
    "    gap = (gap * 10)//13\n",
    "    if gap <1:\n",
    "        return 1\n",
    "    return gap\n",
    "#The find next gap will shrink the gap by a factor of 1.3.\n",
    "#Shrinking applies to every interation untul it reaches the value of 1. \n",
    "#Reference: https://www.geeksforgeeks.org/comb-sort/"
   ]
  },
  {
   "cell_type": "code",
   "execution_count": 5,
   "id": "32763a52-70c3-4b02-8a8b-c662e0670a1f",
   "metadata": {},
   "outputs": [],
   "source": [
    "def comboSort(arr):\n",
    "    n = len(arr)\n",
    "    gap = n\n",
    "    swapped = true #Swapped as true will make sure that the loops runs. \n",
    "    while gap !=1 or swapped == 1:\n",
    "        gap = getNextGap(gap)\n",
    "        swapped = False #Swapped as false will show if the swap occured. \n",
    "        for i in range(0, n-gap):\n",
    "            if arr[i] > arr[i + gap]:\n",
    "                arr[i], arr[i + gap]=arr[i + gap]\n",
    "                swapped = True"
   ]
  },
  {
   "cell_type": "code",
   "execution_count": 18,
   "id": "61c94bd4-6d2d-41e0-a792-ccf41901600b",
   "metadata": {},
   "outputs": [],
   "source": [
    "def building_counting_arrays(arrays_of_n, array_of_timing, function_to_time):\n",
    "#We are defining the time complexity and arrays of sorting function. Allowing us to pplot as a fuction of matplotlib.\n",
    "    n = 10 #defining n\n",
    "    while n <= 10000:\n",
    "        array_of_n.append(n)\n",
    "        rand_list=[]\n",
    "        for i in range(10000): rand_list.append(random.randint(0,1000000))\n",
    "        t1 = time.perf_counter()\n",
    "        array_of_timings.append(time.perf_counter() - t1)\n",
    "        n += 100"
   ]
  },
  {
   "cell_type": "code",
   "execution_count": 7,
   "id": "9e12e2eb-1292-4481-9bcb-3da152590a5f",
   "metadata": {},
   "outputs": [
    {
     "data": {
      "image/png": "[encoded data removed]",
      "text/plain": [
       "<Figure size 432x288 with 1 Axes>"
      ]
     },
     "metadata": {
      "needs_background": "light"
     },
     "output_type": "display_data"
    }
   ],
   "source": [
    "array_of_n = []\n",
    "array_of_timings = []\n",
    "building_counting_arrays(array_of_n,array_of_timings,comboSort)\n",
    "pplot.plot(array_of_n,np.array(array_of_timings))\n",
    "pplot.show()\n",
    "#printing the time complexity of comboSort."
   ]
  },
  {
   "cell_type": "code",
   "execution_count": 8,
   "id": "e6a10595-a230-4dfd-b746-ea4a6046b98f",
   "metadata": {},
   "outputs": [],
   "source": [
    "#The graph above shows that the time complexity is faster than the orginal mergSort."
   ]
  },
  {
   "cell_type": "code",
   "execution_count": 24,
   "id": "0d0bc3a7-c5ae-466c-a2aa-bb38541a1985",
   "metadata": {},
   "outputs": [],
   "source": [
    "import numpy as np\n",
    "import random\n",
    "import time\n",
    "import matplotlib.pyplot as pplot"
   ]
  },
  {
   "cell_type": "code",
   "execution_count": 25,
   "id": "5105de25-61bd-49e5-83d7-8d31136899ad",
   "metadata": {},
   "outputs": [],
   "source": [
    "def merge_sorted_lists(lst1,lst2):\n",
    "    n1 = len(lst1)\n",
    "    n2 = len(lst2)\n",
    "    i1 = 0\n",
    "    i2 = 0\n",
    "    out_list = []\n",
    "    while i1 < n1 and i2<n2:\n",
    "        if lst1[i1] < lst2[i2]:\n",
    "            out_list.append(lst1[i1])\n",
    "            i1 += 1\n",
    "        else:\n",
    "            out_list.append(lst2[i2])\n",
    "            i2 += 1\n",
    "    out_list = out_list + lst1[i1:] + lst2[i2:]\n",
    "    return out_list"
   ]
  },
  {
   "cell_type": "code",
   "execution_count": 26,
   "id": "41428fba-b9e1-4dc0-864e-7d390c3148ad",
   "metadata": {},
   "outputs": [],
   "source": [
    "def merge_sort(lst):\n",
    "    if len(lst) <= 1: return lst\n",
    "    mid = len(lst)//2\n",
    "    return merge_sorted_lists(merge_sort(lst[:mid]),merge_sort(lst[mid:]))"
   ]
  },
  {
   "cell_type": "code",
   "execution_count": 27,
   "id": "024214f4-d341-4854-a4bf-3577a17c2060",
   "metadata": {},
   "outputs": [],
   "source": [
    "def building_counting_arrays(arrays_of_n, array_of_timing, function_to_time):\n",
    "#We are defining the time complexity and arrays of sorting function. Allowing us to pplot as a fuction of matplotlib.\n",
    "    n = 100 #defining n\n",
    "    while n <= 10000:\n",
    "        array_of_n.append(n)\n",
    "        rand_list=[]\n",
    "        for i in range(10000): rand_list.append(random.randint(0,1000000))\n",
    "        t1 = time.perf_counter()\n",
    "        array_of_timings.append(time.perf_counter() - t1)\n",
    "        n += 100"
   ]
  },
  {
   "cell_type": "code",
   "execution_count": 28,
   "id": "d2ee2b9d-3fc6-4b96-89c9-7b6b23d91f6b",
   "metadata": {},
   "outputs": [
    {
     "data": {
      "image/png": "[encoded data removed]",
      "text/plain": [
       "<Figure size 432x288 with 1 Axes>"
      ]
     },
     "metadata": {
      "needs_background": "light"
     },
     "output_type": "display_data"
    }
   ],
   "source": [
    "array_of_n = []\n",
    "array_of_timings = []\n",
    "building_counting_arrays(array_of_n,array_of_timings,merge_sort)\n",
    "pplot.plot(array_of_n,np.array(array_of_timings))\n",
    "pplot.show()\n",
    "#printing the time complexity of mergeSort."
   ]
  },
  {
   "cell_type": "code",
   "execution_count": 29,
   "id": "8f06a3f3-32d0-48ab-bbf4-79ad6a8f2e86",
   "metadata": {},
   "outputs": [],
   "source": [
    "#The orginal mergSort seems to be a little bit slower and more expensive comparative to the the comboSort. "
   ]
  },
  {
   "cell_type": "code",
   "execution_count": 30,
   "id": "7e08868e-2475-4667-8db1-b347fa0f2d79",
   "metadata": {},
   "outputs": [],
   "source": [
    "#If I was to explain this to my boss, I would say that using the combo sort would be efficient in the long run to complete given objectives. \n",
    "#In some cases where the bubble sort or mergeSort would be more effective with worst-case remaining O(n^2)."
   ]
  },
  {
   "cell_type": "code",
   "execution_count": null,
   "id": "6f3950da-f888-47f0-96a2-fcd2ebe151f5",
   "metadata": {},
   "outputs": [],
   "source": []
  },
  {
   "cell_type": "code",
   "execution_count": null,
   "id": "ba2c0e8e-69a2-4a96-9e6a-3ef9c7c44126",
   "metadata": {},
   "outputs": [],
   "source": []
  }
 ],
 "metadata": {
  "kernelspec": {
   "display_name": "Python 3 (ipykernel)",
   "language": "python",
   "name": "python3"
  },
  "language_info": {
   "codemirror_mode": {
    "name": "ipython",
    "version": 3
   },
   "file_extension": ".py",
   "mimetype": "text/x-python",
   "name": "python",
   "nbconvert_exporter": "python",
   "pygments_lexer": "ipython3",
   "version": "3.9.12"
  }
 },
 "nbformat": 4,
 "nbformat_minor": 5
}
